{
  "cells": [
    {
      "cell_type": "markdown",
      "metadata": {
        "id": "view-in-github",
        "colab_type": "text"
      },
      "source": [
        "<a href=\"https://colab.research.google.com/github/PetrovES570/PDA_SOL/blob/main/1_%D0%B7%D0%B0%D0%B4%D0%B0%D0%BD%D0%B8%D0%B5_%D0%9F%D0%B5%D1%82%D1%80%D0%BE%D0%B2.ipynb\" target=\"_parent\"><img src=\"https://colab.research.google.com/assets/colab-badge.svg\" alt=\"Open In Colab\"/></a>"
      ]
    },
    {
      "cell_type": "markdown",
      "metadata": {
        "id": "ynDGv1zWpbS9"
      },
      "source": [
        "# Символьная математика с Sympy\n",
        "\n",
        "[Sympy](http://www.sympy.org/en/index.html) описывается как:\n",
        "\n",
        "> \"... Python library for symbolic mathematics.\"\n",
        "\n",
        "Это означает, что `Sympy` можно использовать для:\n",
        "\n",
        "- Работа с символическими выражениями;\n",
        "- Решать символьные уравнения;\n",
        "- Проводить символическое исчисление;\n",
        "- Построение символьной графики.\n",
        "\n",
        "Подробнее о возможностях `Sympy` можно прочитать здесь: http://www.sympy.org/en/index.html.\n",
        "\n",
        "## Работа с символическими выражениями\n",
        "\n",
        "Импортируем библиотеку `Sympy`."
      ]
    },
    {
      "cell_type": "code",
      "execution_count": 1,
      "metadata": {
        "id": "Q9zsEu-_pbS_"
      },
      "outputs": [],
      "source": [
        "import sympy as sym"
      ]
    },
    {
      "cell_type": "markdown",
      "metadata": {
        "id": "KcMpGeoupbTA"
      },
      "source": [
        "Импорт библиотеки дает доступ к ее командам, используя сокращение `sym`.\n",
        "\n",
        "При  попытке проверки выражения $x - x = 0$, получим ошибку, если предварительно не описать в Python переменную $x$."
      ]
    },
    {
      "cell_type": "markdown",
      "metadata": {
        "id": "8ePCCMHFpbTA"
      },
      "source": [
        "Здесь на помощь приходит `Sympy`: мы можем указать Python создать $x$ в качестве символьной переменной:"
      ]
    },
    {
      "cell_type": "code",
      "execution_count": null,
      "metadata": {
        "id": "dJ_UpEeKpbTB"
      },
      "outputs": [],
      "source": [
        "x = sym.symbols('x')"
      ]
    },
    {
      "cell_type": "markdown",
      "metadata": {
        "id": "TlRXTadbpbTB"
      },
      "source": [
        "Теперь мы можем вычислить $x - x$:"
      ]
    },
    {
      "cell_type": "code",
      "execution_count": null,
      "metadata": {
        "id": "-N3MmA6dpbTB"
      },
      "outputs": [],
      "source": [
        "x - x"
      ]
    },
    {
      "cell_type": "markdown",
      "metadata": {
        "id": "4KNxPlZzpbTB"
      },
      "source": [
        "Мы можем создавать выражения и манипулировать ими в Sympy. Давайте, например, проверим:\n",
        "\n",
        "$$(a + b) ^ 2 = а ^ 2 + 2ab + b ^2$$\n",
        "\n",
        "Сначала мы создаем символьные переменные $a, b$:"
      ]
    },
    {
      "cell_type": "code",
      "execution_count": null,
      "metadata": {
        "id": "rep2HMOfpbTB"
      },
      "outputs": [],
      "source": [
        "a, b = sym.symbols('a, b')"
      ]
    },
    {
      "cell_type": "markdown",
      "metadata": {
        "id": "evR9bjLCpbTC"
      },
      "source": [
        "Теперь давайте создадим наше выражение:"
      ]
    },
    {
      "cell_type": "code",
      "execution_count": null,
      "metadata": {
        "id": "ErtTcP-GpbTC",
        "outputId": "1dc598ac-187c-4482-999f-3359ce6fff21"
      },
      "outputs": [
        {
          "data": {
            "text/latex": [
              "$\\displaystyle \\left(a + b\\right)^{2}$"
            ],
            "text/plain": [
              "(a + b)**2"
            ]
          },
          "execution_count": 5,
          "metadata": {},
          "output_type": "execute_result"
        }
      ],
      "source": [
        "expr = (a + b) ** 2\n",
        "expr"
      ]
    },
    {
      "cell_type": "markdown",
      "metadata": {
        "id": "wF7bYlwQpbTC"
      },
      "source": [
        "**Примечание**  в `Sympy` можно использовать LaTeX-разметку, чтобы результат выглядел в более удобно читаемом виде:"
      ]
    },
    {
      "cell_type": "code",
      "execution_count": null,
      "metadata": {
        "id": "S-P3cxFwpbTC"
      },
      "outputs": [],
      "source": [
        "sym.init_printing()"
      ]
    },
    {
      "cell_type": "code",
      "execution_count": null,
      "metadata": {
        "id": "OK6rrHQspbTC"
      },
      "outputs": [],
      "source": [
        "expr"
      ]
    },
    {
      "cell_type": "markdown",
      "metadata": {
        "id": "JA9ZWS9rpbTC"
      },
      "source": [
        "Раскроем скобки в выражении:"
      ]
    },
    {
      "cell_type": "code",
      "execution_count": null,
      "metadata": {
        "id": "mkxn3npUpbTC",
        "outputId": "a51d7671-51c5-4fe6-b9e2-3bc1a6886bae"
      },
      "outputs": [
        {
          "data": {
            "text/latex": [
              "$\\displaystyle a^{2} + 2 a b + b^{2}$"
            ],
            "text/plain": [
              "a**2 + 2*a*b + b**2"
            ]
          },
          "execution_count": 6,
          "metadata": {},
          "output_type": "execute_result"
        }
      ],
      "source": [
        "expr.expand()"
      ]
    },
    {
      "cell_type": "markdown",
      "metadata": {
        "id": "sgQwmsvLpbTC"
      },
      "source": [
        "Обратите внимание, что  в `Sympy` можно создать код LaTeX для дальнейшего применения:"
      ]
    },
    {
      "cell_type": "code",
      "execution_count": null,
      "metadata": {
        "id": "GRVdzYqxpbTD",
        "outputId": "3a638044-6e51-4075-83d6-6666d75c16ac"
      },
      "outputs": [
        {
          "data": {
            "text/plain": [
              "'a^{2} + 2 a b + b^{2}'"
            ]
          },
          "execution_count": 7,
          "metadata": {},
          "output_type": "execute_result"
        }
      ],
      "source": [
        "sym.latex(expr.expand())"
      ]
    },
    {
      "cell_type": "markdown",
      "metadata": {
        "id": "vyGwee5TpbTD"
      },
      "source": [
        "---\n",
        "**УПРАЖНЕНИЕ 1** Используйте Sympy, чтобы проверить следующие выражения:\n",
        "\n",
        "- $(a - b) ^ 2 = a ^ 2 - 2 a b + b^2$\n",
        "- $a ^ 2 - b ^ 2 = (a - b) (a + b)$ (вместо использования `expand` попробуйте `factor`)"
      ]
    },
    {
      "cell_type": "code",
      "execution_count": null,
      "metadata": {
        "id": "zIug8STjA8gS"
      },
      "outputs": [],
      "source": [
        "\n",
        "a, b = sym.symbols('a b')\n",
        "\n",
        "expr1 = (a - b) ** 2\n",
        "expr2 = a ** 2 - 2 * a * b + b ** 2\n",
        "\n",
        "expr3 = a ** 2 - b ** 2\n",
        "expr4 = (a - b) * (a + b)\n",
        "\n",
        "print(sym.expand(sym.Eq(expr1, expr2)), sym.expand(sym.Eq(expr3, expr4)))"
      ]
    },
    {
      "cell_type": "markdown",
      "metadata": {
        "id": "UPOKWIr1pbTD"
      },
      "source": [
        "## Решение символьных уравнений"
      ]
    },
    {
      "cell_type": "markdown",
      "metadata": {
        "id": "YK7DxzxapbTD"
      },
      "source": [
        "Мы можем использовать `Sympy` для решения символьных выражений. Например, найдем неизвестное $x$ квадратного уравнения:\n",
        "$$a x ^ 2 + b x + c = 0$$"
      ]
    },
    {
      "cell_type": "code",
      "execution_count": null,
      "metadata": {
        "id": "2R08lHoVpbTD"
      },
      "outputs": [],
      "source": [
        "a, b, c, x = sym.symbols('a, b, c, x')"
      ]
    },
    {
      "cell_type": "markdown",
      "metadata": {
        "id": "6oCqUBL1pbTD"
      },
      "source": [
        "Команда в `Sympy` для решения уравнений — `solveset`. Первый аргумент — это выражение, для которого будет найден корень. Второй аргумент — это значение, которое мы ищем."
      ]
    },
    {
      "cell_type": "code",
      "execution_count": null,
      "metadata": {
        "id": "mKoa2guKpbTD"
      },
      "outputs": [],
      "source": [
        "sym.solveset(a * x ** 2 + b * x + c, x)"
      ]
    },
    {
      "cell_type": "markdown",
      "metadata": {
        "id": "Lhw5nbeEpbTD"
      },
      "source": [
        "---\n",
        "** УПРАЖНЕНИЕ 2** Используйте Sympy, чтобы найти решения обобщенного кубического уравнения:\n",
        "\n",
        "$$a x ^ 3 + b x ^ 2 + c  x + d = 0$$\n",
        "\n",
        "---"
      ]
    },
    {
      "cell_type": "code",
      "execution_count": 2,
      "metadata": {
        "colab": {
          "base_uri": "https://localhost:8080/",
          "height": 149
        },
        "id": "Y9HIHA0_A8gT",
        "outputId": "19e71926-d06c-4160-c000-29c8c57ff246"
      },
      "outputs": [
        {
          "output_type": "execute_result",
          "data": {
            "text/plain": [
              "{-(-3*c/a + b**2/a**2)/(3*(sqrt(-4*(-3*c/a + b**2/a**2)**3 + (27*d/a - 9*b*c/a**2 + 2*b**3/a**3)**2)/2 + 27*d/(2*a) - 9*b*c/(2*a**2) + b**3/a**3)**(1/3)) - (sqrt(-4*(-3*c/a + b**2/a**2)**3 + (27*d/a - 9*b*c/a**2 + 2*b**3/a**3)**2)/2 + 27*d/(2*a) - 9*b*c/(2*a**2) + b**3/a**3)**(1/3)/3 - b/(3*a), -(-3*c/a + b**2/a**2)/(3*(-1/2 - sqrt(3)*I/2)*(sqrt(-4*(-3*c/a + b**2/a**2)**3 + (27*d/a - 9*b*c/a**2 + 2*b**3/a**3)**2)/2 + 27*d/(2*a) - 9*b*c/(2*a**2) + b**3/a**3)**(1/3)) - (-1/2 - sqrt(3)*I/2)*(sqrt(-4*(-3*c/a + b**2/a**2)**3 + (27*d/a - 9*b*c/a**2 + 2*b**3/a**3)**2)/2 + 27*d/(2*a) - 9*b*c/(2*a**2) + b**3/a**3)**(1/3)/3 - b/(3*a), -(-3*c/a + b**2/a**2)/(3*(-1/2 + sqrt(3)*I/2)*(sqrt(-4*(-3*c/a + b**2/a**2)**3 + (27*d/a - 9*b*c/a**2 + 2*b**3/a**3)**2)/2 + 27*d/(2*a) - 9*b*c/(2*a**2) + b**3/a**3)**(1/3)) - (-1/2 + sqrt(3)*I/2)*(sqrt(-4*(-3*c/a + b**2/a**2)**3 + (27*d/a - 9*b*c/a**2 + 2*b**3/a**3)**2)/2 + 27*d/(2*a) - 9*b*c/(2*a**2) + b**3/a**3)**(1/3)/3 - b/(3*a)}"
            ],
            "text/latex": "$\\displaystyle \\left\\{- \\frac{- \\frac{3 c}{a} + \\frac{b^{2}}{a^{2}}}{3 \\sqrt[3]{\\frac{\\sqrt{- 4 \\left(- \\frac{3 c}{a} + \\frac{b^{2}}{a^{2}}\\right)^{3} + \\left(\\frac{27 d}{a} - \\frac{9 b c}{a^{2}} + \\frac{2 b^{3}}{a^{3}}\\right)^{2}}}{2} + \\frac{27 d}{2 a} - \\frac{9 b c}{2 a^{2}} + \\frac{b^{3}}{a^{3}}}} - \\frac{\\sqrt[3]{\\frac{\\sqrt{- 4 \\left(- \\frac{3 c}{a} + \\frac{b^{2}}{a^{2}}\\right)^{3} + \\left(\\frac{27 d}{a} - \\frac{9 b c}{a^{2}} + \\frac{2 b^{3}}{a^{3}}\\right)^{2}}}{2} + \\frac{27 d}{2 a} - \\frac{9 b c}{2 a^{2}} + \\frac{b^{3}}{a^{3}}}}{3} - \\frac{b}{3 a}, - \\frac{- \\frac{3 c}{a} + \\frac{b^{2}}{a^{2}}}{3 \\left(- \\frac{1}{2} - \\frac{\\sqrt{3} i}{2}\\right) \\sqrt[3]{\\frac{\\sqrt{- 4 \\left(- \\frac{3 c}{a} + \\frac{b^{2}}{a^{2}}\\right)^{3} + \\left(\\frac{27 d}{a} - \\frac{9 b c}{a^{2}} + \\frac{2 b^{3}}{a^{3}}\\right)^{2}}}{2} + \\frac{27 d}{2 a} - \\frac{9 b c}{2 a^{2}} + \\frac{b^{3}}{a^{3}}}} - \\frac{\\left(- \\frac{1}{2} - \\frac{\\sqrt{3} i}{2}\\right) \\sqrt[3]{\\frac{\\sqrt{- 4 \\left(- \\frac{3 c}{a} + \\frac{b^{2}}{a^{2}}\\right)^{3} + \\left(\\frac{27 d}{a} - \\frac{9 b c}{a^{2}} + \\frac{2 b^{3}}{a^{3}}\\right)^{2}}}{2} + \\frac{27 d}{2 a} - \\frac{9 b c}{2 a^{2}} + \\frac{b^{3}}{a^{3}}}}{3} - \\frac{b}{3 a}, - \\frac{- \\frac{3 c}{a} + \\frac{b^{2}}{a^{2}}}{3 \\left(- \\frac{1}{2} + \\frac{\\sqrt{3} i}{2}\\right) \\sqrt[3]{\\frac{\\sqrt{- 4 \\left(- \\frac{3 c}{a} + \\frac{b^{2}}{a^{2}}\\right)^{3} + \\left(\\frac{27 d}{a} - \\frac{9 b c}{a^{2}} + \\frac{2 b^{3}}{a^{3}}\\right)^{2}}}{2} + \\frac{27 d}{2 a} - \\frac{9 b c}{2 a^{2}} + \\frac{b^{3}}{a^{3}}}} - \\frac{\\left(- \\frac{1}{2} + \\frac{\\sqrt{3} i}{2}\\right) \\sqrt[3]{\\frac{\\sqrt{- 4 \\left(- \\frac{3 c}{a} + \\frac{b^{2}}{a^{2}}\\right)^{3} + \\left(\\frac{27 d}{a} - \\frac{9 b c}{a^{2}} + \\frac{2 b^{3}}{a^{3}}\\right)^{2}}}{2} + \\frac{27 d}{2 a} - \\frac{9 b c}{2 a^{2}} + \\frac{b^{3}}{a^{3}}}}{3} - \\frac{b}{3 a}\\right\\}$"
          },
          "metadata": {},
          "execution_count": 2
        }
      ],
      "source": [
        "\n",
        "a, b, c, d, x = sym.symbols('a, b, c, d, x')\n",
        "sym.solveset(a * x ** 3 + b * x ** 2 + c * x + d, x)"
      ]
    },
    {
      "cell_type": "markdown",
      "metadata": {
        "id": "M_intuvBpbTE"
      },
      "source": [
        "В `solveset` можно передать больше аргументов, например, чтобы ограничить пространство решений. Давайте посмотрим, что представляет собой решение следующей задачи. $\\mathbb{R}$:\n",
        "\n",
        "$$x^2=-1$$"
      ]
    },
    {
      "cell_type": "code",
      "execution_count": null,
      "metadata": {
        "id": "R62Zg5hbpbTE"
      },
      "outputs": [],
      "source": [
        "sym.solveset(x ** 2 + 1, x, domain=sym.S.Reals)"
      ]
    },
    {
      "cell_type": "markdown",
      "metadata": {
        "id": "oWJ-CSKMpbTE"
      },
      "source": [
        "---\n",
        "** УПРАЖНЕНИЕ 3** Используйте Sympy, чтобы найти решения следующих уравнений:\n",
        "\n",
        "- $x ^ 2 == 2$ in $\\mathbb{N}$;\n",
        "- $x ^ 3 + 2 x = 0$ in $\\mathbb{R}$.\n",
        "\n",
        "---"
      ]
    },
    {
      "cell_type": "code",
      "execution_count": 3,
      "metadata": {
        "colab": {
          "base_uri": "https://localhost:8080/",
          "height": 37
        },
        "id": "W2yUpXP_A8gU",
        "outputId": "83450096-34dd-4cfc-86e7-ae07505e078d"
      },
      "outputs": [
        {
          "output_type": "execute_result",
          "data": {
            "text/plain": [
              "EmptySet"
            ],
            "text/latex": "$\\displaystyle \\emptyset$"
          },
          "metadata": {},
          "execution_count": 3
        }
      ],
      "source": [
        "#x2==2\n",
        "x = sym.symbols('x')\n",
        "sym.solveset(x ** 2 - 2, x, domain=sym.S.Naturals)"
      ]
    },
    {
      "cell_type": "code",
      "execution_count": 4,
      "metadata": {
        "colab": {
          "base_uri": "https://localhost:8080/",
          "height": 37
        },
        "id": "3Qd5BXlkA8gU",
        "outputId": "b6d3046e-7af8-437a-82f8-67ccdbe835a2"
      },
      "outputs": [
        {
          "output_type": "execute_result",
          "data": {
            "text/plain": [
              "{0}"
            ],
            "text/latex": "$\\displaystyle \\left\\{0\\right\\}$"
          },
          "metadata": {},
          "execution_count": 4
        }
      ],
      "source": [
        "#x3+2x\n",
        "x = sym.symbols('x')\n",
        "sym.solveset(x ** 3 + 2 * x, x, domain=sym.S.Reals)"
      ]
    },
    {
      "cell_type": "markdown",
      "metadata": {
        "id": "EugqmesOpbTE"
      },
      "source": [
        "## Символьное исчисление\n",
        "\n",
        "`Sympy` также используют для вычисления пределов. Давайте посчитаем:\n",
        "\n",
        "$$\\lim_{x\\to 0^+}\\frac{1}{x}$$"
      ]
    },
    {
      "cell_type": "code",
      "execution_count": null,
      "metadata": {
        "id": "d8l0lFp1pbTE"
      },
      "outputs": [],
      "source": [
        "sym.limit(1/x, x, 0, dir=\"+\")"
      ]
    },
    {
      "cell_type": "markdown",
      "metadata": {
        "id": "XP_z2t2HpbTE"
      },
      "source": [
        "---\n",
        "**УПРАЖНЕНИЕ 4** Рассчитайте следующие пределы:\n",
        "\n",
        "1. $\\lim_{x\\to 0^-}\\frac{1}{x}$\n",
        "2.  $\\lim_{x\\to 0}\\frac{1}{x^2}$\n",
        "\n",
        "---"
      ]
    },
    {
      "cell_type": "code",
      "execution_count": 5,
      "metadata": {
        "colab": {
          "base_uri": "https://localhost:8080/",
          "height": 37
        },
        "id": "Pv5vXgi2A8gU",
        "outputId": "282d3847-045e-454d-a1d0-4414703e55ab"
      },
      "outputs": [
        {
          "output_type": "execute_result",
          "data": {
            "text/plain": [
              "-oo"
            ],
            "text/latex": "$\\displaystyle -\\infty$"
          },
          "metadata": {},
          "execution_count": 5
        }
      ],
      "source": [
        "#1\n",
        "sym.limit(1/x, x, 0, dir=\"-\")"
      ]
    },
    {
      "cell_type": "code",
      "execution_count": 7,
      "metadata": {
        "colab": {
          "base_uri": "https://localhost:8080/",
          "height": 37
        },
        "id": "huLWzpXiA8gU",
        "outputId": "65d63557-54ef-4fe8-c6c0-881c3d985d4f"
      },
      "outputs": [
        {
          "output_type": "execute_result",
          "data": {
            "text/plain": [
              "oo"
            ],
            "text/latex": "$\\displaystyle \\infty$"
          },
          "metadata": {},
          "execution_count": 7
        }
      ],
      "source": [
        "#2\n",
        "sym.limit(1/(x ** 2), x, 0)"
      ]
    },
    {
      "cell_type": "markdown",
      "metadata": {
        "id": "FZhvlS-ppbTE"
      },
      "source": [
        "Можно использовать `Sympy` для дифференцирования и интегрирования.Продифференцируем следующее выражения:\n",
        "\n",
        "\n",
        "$$x ^ 2 - \\cos(x)$$"
      ]
    },
    {
      "cell_type": "code",
      "execution_count": null,
      "metadata": {
        "id": "WIrkYMIxpbTE"
      },
      "outputs": [],
      "source": [
        "sym.diff(x ** 2 - sym.cos(x), x)"
      ]
    },
    {
      "cell_type": "markdown",
      "metadata": {
        "id": "qzLBdGHEpbTE"
      },
      "source": [
        "Аналогично можно интегрировать:"
      ]
    },
    {
      "cell_type": "code",
      "execution_count": null,
      "metadata": {
        "id": "Hx3OOuSOpbTE"
      },
      "outputs": [],
      "source": [
        "sym.integrate(x ** 2 - sym.cos(x), x)"
      ]
    },
    {
      "cell_type": "markdown",
      "metadata": {
        "id": "g_B9lbFjpbTF"
      },
      "source": [
        "Включена возможность расчета определенных интегралов:"
      ]
    },
    {
      "cell_type": "code",
      "execution_count": null,
      "metadata": {
        "id": "PazFpwn4pbTF"
      },
      "outputs": [],
      "source": [
        "sym.integrate(x ** 2 - sym.cos(x), (x, 0, 5))"
      ]
    },
    {
      "cell_type": "markdown",
      "metadata": {
        "id": "TQ_fuWDkpbTF"
      },
      "source": [
        "---\n",
        "\n",
        "**УПРАЖНЕНИЕ 5** Используйте Sympy, чтобы рассчитать следующие выражения:\n",
        "\n",
        "1. $\\frac{d\\sin(x ^2)}{dx}$\n",
        "2. $\\frac{d(x ^2 + xy - \\ln(y))}{dy}$\n",
        "3. $\\int e^x \\cos(x)\\;dx$\n",
        "4. $\\int_0^5 e^{2x}\\;dx$"
      ]
    },
    {
      "cell_type": "code",
      "execution_count": 8,
      "metadata": {
        "colab": {
          "base_uri": "https://localhost:8080/",
          "height": 39
        },
        "id": "LCqlitJ7A8ge",
        "outputId": "6370b14b-a43e-464c-c024-34e6e1c39fd2"
      },
      "outputs": [
        {
          "output_type": "execute_result",
          "data": {
            "text/plain": [
              "2*x*cos(x**2)"
            ],
            "text/latex": "$\\displaystyle 2 x \\cos{\\left(x^{2} \\right)}$"
          },
          "metadata": {},
          "execution_count": 8
        }
      ],
      "source": [
        "#1\n",
        "sym.diff(sym.sin(x ** 2), x)"
      ]
    },
    {
      "cell_type": "code",
      "execution_count": 9,
      "metadata": {
        "colab": {
          "base_uri": "https://localhost:8080/",
          "height": 54
        },
        "id": "SQjt0knwA8ge",
        "outputId": "af3af998-071f-4935-e194-078625e31190"
      },
      "outputs": [
        {
          "output_type": "execute_result",
          "data": {
            "text/plain": [
              "x - 1/y"
            ],
            "text/latex": "$\\displaystyle x - \\frac{1}{y}$"
          },
          "metadata": {},
          "execution_count": 9
        }
      ],
      "source": [
        "#2\n",
        "x, y = sym.symbols('x, y')\n",
        "sym.diff(x ** 2 + x * y - sym.ln(y), y)"
      ]
    },
    {
      "cell_type": "code",
      "execution_count": 10,
      "metadata": {
        "colab": {
          "base_uri": "https://localhost:8080/",
          "height": 53
        },
        "id": "PRhcnjouA8gf",
        "outputId": "c83d949a-e675-4d5c-a6c6-e38eb9af0df4"
      },
      "outputs": [
        {
          "output_type": "execute_result",
          "data": {
            "text/plain": [
              "exp(x)*sin(x)/2 + exp(x)*cos(x)/2"
            ],
            "text/latex": "$\\displaystyle \\frac{e^{x} \\sin{\\left(x \\right)}}{2} + \\frac{e^{x} \\cos{\\left(x \\right)}}{2}$"
          },
          "metadata": {},
          "execution_count": 10
        }
      ],
      "source": [
        "#3\n",
        "sym.integrate(sym.exp(x) * sym.cos(x), x)"
      ]
    },
    {
      "cell_type": "code",
      "execution_count": 11,
      "metadata": {
        "colab": {
          "base_uri": "https://localhost:8080/",
          "height": 54
        },
        "id": "qP41grZ5A8gf",
        "outputId": "87233a06-4074-4fbe-a009-3181fae2d53f"
      },
      "outputs": [
        {
          "output_type": "execute_result",
          "data": {
            "text/plain": [
              "-1/2 + exp(10)/2"
            ],
            "text/latex": "$\\displaystyle - \\frac{1}{2} + \\frac{e^{10}}{2}$"
          },
          "metadata": {},
          "execution_count": 11
        }
      ],
      "source": [
        "#4\n",
        "sym.integrate(sym.exp(2 * x), (x, 0, 5))"
      ]
    },
    {
      "cell_type": "markdown",
      "metadata": {
        "id": "TDANPQNEpbTF"
      },
      "source": [
        "## Построение графика с помощью Sympy\n",
        "\n",
        "Наконец, `Sympy` можно использовать для построения графиков функций. Обратите внимание, что здесь используется другая библиотека Python под названием [matplotlib](http://matplotlib.org/). Хотя `Sympy` позволяет  не использовать `matplotlib`` напрямую, порой, требуется пользоваться данной библиотекой для более детального построения.\n",
        "\n",
        "Прежде чем рисовать графики в `Jupyter`, требуется запустить команду, чтобы он отображал графики прямо в блокноте:"
      ]
    },
    {
      "cell_type": "code",
      "execution_count": null,
      "metadata": {
        "id": "ezoJ8mVWpbTI"
      },
      "outputs": [],
      "source": [
        "%matplotlib inline"
      ]
    },
    {
      "cell_type": "markdown",
      "metadata": {
        "id": "mtbJaonxpbTI"
      },
      "source": [
        "Let us plot $x^2$:"
      ]
    },
    {
      "cell_type": "code",
      "execution_count": null,
      "metadata": {
        "id": "mRCK1EcCpbTJ",
        "tags": [
          "nbval-ignore-output"
        ]
      },
      "outputs": [],
      "source": [
        "expr = x ** 2\n",
        "p = sym.plot(expr);"
      ]
    },
    {
      "cell_type": "markdown",
      "metadata": {
        "id": "Kky2EOEEpbTJ"
      },
      "source": [
        "Можно напрямую сохранить этот график в файл:"
      ]
    },
    {
      "cell_type": "code",
      "execution_count": null,
      "metadata": {
        "id": "tIUtfkvppbTJ",
        "tags": [
          "nbval-ignore-output"
        ]
      },
      "outputs": [],
      "source": [
        "p.save(\"x_squared.pdf\");"
      ]
    },
    {
      "cell_type": "markdown",
      "metadata": {
        "id": "D5mv8sDXpbTJ"
      },
      "source": [
        "---\n",
        "**УПРАЖНЕНИЕ 6** Постройте графики следующих функций:\n",
        "\n",
        "- $y=x + cos(x)$\n",
        "- $y=x ^ 2 - e^x$ (вам может пригодиться `ylim` в качестве аргумента)\n",
        "\n",
        "Поэкспериментируйте с сохранением графиков в файл.."
      ]
    },
    {
      "cell_type": "code",
      "execution_count": null,
      "metadata": {
        "id": "GP7EYJkgA8gf",
        "outputId": "e444c98f-9ad5-40ca-f072-d1ad31f7bc75"
      },
      "outputs": [
        {
          "data": {
            "image/png": "[encoded data removed]",
            "text/plain": [
              "<Figure size 640x480 with 1 Axes>"
            ]
          },
          "metadata": {},
          "output_type": "display_data"
        }
      ],
      "source": [
        "#1\n",
        "expr = x + sym.cos(x)\n",
        "p = sym.plot(expr)"
      ]
    },
    {
      "cell_type": "code",
      "execution_count": 12,
      "metadata": {
        "colab": {
          "base_uri": "https://localhost:8080/",
          "height": 487
        },
        "id": "dT5BbbfOA8gg",
        "outputId": "e5a86255-88e5-4da1-b63f-6b1cb3aa6b9c"
      },
      "outputs": [
        {
          "output_type": "display_data",
          "data": {
            "text/plain": [
              "<Figure size 640x480 with 1 Axes>"
            ],
            "image/png": "[encoded data removed]"
          },
          "metadata": {}
        }
      ],
      "source": [
        "#2\n",
        "expr = x ** 2 - sym.exp(x)\n",
        "p = sym.plot(expr)"
      ]
    }
  ],
  "metadata": {
    "anaconda-cloud": {},
    "celltoolbar": "Tags",
    "colab": {
      "provenance": [],
      "include_colab_link": true
    },
    "kernelspec": {
      "display_name": "Python 3",
      "language": "python",
      "name": "python3"
    },
    "language_info": {
      "codemirror_mode": {
        "name": "ipython",
        "version": 3
      },
      "file_extension": ".py",
      "mimetype": "text/x-python",
      "name": "python",
      "nbconvert_exporter": "python",
      "pygments_lexer": "ipython3",
      "version": "3.11.6"
    }
  },
  "nbformat": 4,
  "nbformat_minor": 0
}