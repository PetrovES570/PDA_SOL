{
  "cells": [
    {
      "cell_type": "markdown",
      "metadata": {
        "id": "9EvpxLFZdTHV"
      },
      "source": [
        "# Самостоятельная работа 2. Numpy\n",
        "\n",
        "1. Скачайте этот ноутбук к себе.\n",
        "2. Заполните пропущенные ячейки, отвечая на заданные вопросы. Там должен быть код! (если не сказано обратное)\n",
        "3. Сохраните результат в своём гитхаб репозитории.\n",
        "\n",
        "#### Полезная литература\n",
        "\n",
        "- http://www.numpy.org/\n",
        "- https://jakevdp.github.io/PythonDataScienceHandbook/02.00-introduction-to-numpy.html\n",
        "- https://docs.scipy.org/doc/numpy/user/quickstart.html"
      ]
    },
    {
      "cell_type": "markdown",
      "metadata": {
        "id": "oEnHBohTdTHX"
      },
      "source": [
        "1) Импортировать numpy и написать версию"
      ]
    },
    {
      "cell_type": "code",
      "execution_count": null,
      "metadata": {
        "colab": {
          "base_uri": "https://localhost:8080/"
        },
        "id": "z1E7bDsVdTHX",
        "outputId": "c6c465df-19f0-4df1-af57-83f1cfa0ef41"
      },
      "outputs": [
        {
          "output_type": "stream",
          "name": "stdout",
          "text": [
            "1.23.5\n"
          ]
        }
      ],
      "source": [
        "import numpy as np\n",
        "print (np.__version__)"
      ]
    },
    {
      "cell_type": "markdown",
      "metadata": {
        "id": "avYKgRFydTHY"
      },
      "source": [
        "2) Создать нулевой вектор размера 10"
      ]
    },
    {
      "cell_type": "code",
      "execution_count": null,
      "metadata": {
        "colab": {
          "base_uri": "https://localhost:8080/"
        },
        "id": "4Yi9sL4XdTHY",
        "outputId": "ec796082-5262-4880-f64d-06403f357cbe"
      },
      "outputs": [
        {
          "output_type": "stream",
          "name": "stdout",
          "text": [
            "[0. 0. 0. 0. 0. 0. 0. 0. 0. 0.]\n"
          ]
        }
      ],
      "source": [
        "a = np.zeros(10)\n",
        "print(a)"
      ]
    },
    {
      "cell_type": "markdown",
      "metadata": {
        "id": "8hFD1kLRdTHY"
      },
      "source": [
        "3) Создать вектор заполненный 7-ами размера 7"
      ]
    },
    {
      "cell_type": "code",
      "execution_count": null,
      "metadata": {
        "colab": {
          "base_uri": "https://localhost:8080/"
        },
        "id": "3HJkY8N_dTHY",
        "outputId": "1ef083a3-f5be-4605-e1a7-c72507c9f82a"
      },
      "outputs": [
        {
          "output_type": "stream",
          "name": "stdout",
          "text": [
            "[7. 7. 7. 7. 7. 7. 7.]\n"
          ]
        }
      ],
      "source": [
        "b = np.ones(7)*7\n",
        "print(b)"
      ]
    },
    {
      "cell_type": "markdown",
      "metadata": {
        "id": "p9RQUW4hdTHY"
      },
      "source": [
        "4) Создать вектор заполненный четными числами от 10 до 100"
      ]
    },
    {
      "cell_type": "code",
      "execution_count": null,
      "metadata": {
        "colab": {
          "base_uri": "https://localhost:8080/"
        },
        "id": "MgwPMKFadTHY",
        "outputId": "2f73d1e0-b7a6-4399-f130-265a4711a521"
      },
      "outputs": [
        {
          "output_type": "stream",
          "name": "stdout",
          "text": [
            "[ 10  12  14  16  18  20  22  24  26  28  30  32  34  36  38  40  42  44\n",
            "  46  48  50  52  54  56  58  60  62  64  66  68  70  72  74  76  78  80\n",
            "  82  84  86  88  90  92  94  96  98 100]\n"
          ]
        }
      ],
      "source": [
        "c = np.arange(10, 101, 2)\n",
        "print(c)"
      ]
    },
    {
      "cell_type": "markdown",
      "metadata": {
        "id": "DOOX7UoZdTHY"
      },
      "source": [
        "5) Создать массив случайных чисел и развернуть его задом наперёд"
      ]
    },
    {
      "cell_type": "code",
      "execution_count": null,
      "metadata": {
        "colab": {
          "base_uri": "https://localhost:8080/"
        },
        "id": "PAQJHQGRdTHY",
        "outputId": "165001dc-b6c1-4ce1-b30c-b3b6538868f2"
      },
      "outputs": [
        {
          "output_type": "stream",
          "name": "stdout",
          "text": [
            "[0.00454993 0.7311472  0.11362342 0.67789099 0.88231069 0.29646335\n",
            " 0.93780968 0.31162322 0.35128625 0.8803668 ] [0.8803668  0.35128625 0.31162322 0.93780968 0.29646335 0.88231069\n",
            " 0.67789099 0.11362342 0.7311472  0.00454993]\n"
          ]
        }
      ],
      "source": [
        "d = np.random.rand(10)\n",
        "d2 = np.flip(d)\n",
        "print(d, d2)"
      ]
    },
    {
      "cell_type": "markdown",
      "metadata": {
        "id": "QpzLObM6dTHY"
      },
      "source": [
        "6) Создать двумерную матрицу размера 3 на 3, заполненную числами от 0 до 9"
      ]
    },
    {
      "cell_type": "code",
      "execution_count": null,
      "metadata": {
        "colab": {
          "base_uri": "https://localhost:8080/"
        },
        "id": "FgqJn2j6dTHZ",
        "outputId": "e6efe6f1-322d-46f1-a672-79c0200aa3f9"
      },
      "outputs": [
        {
          "output_type": "stream",
          "name": "stdout",
          "text": [
            "[[0 1 2]\n",
            " [3 4 5]\n",
            " [6 7 8]]\n"
          ]
        }
      ],
      "source": [
        "aa = np.arange(9).reshape(3,3)\n",
        "print(aa)"
      ]
    },
    {
      "cell_type": "markdown",
      "metadata": {
        "id": "9NMM-jqjdTHZ"
      },
      "source": [
        "7) Создать матрицу размера 4 на 4 с единицами на диагонали смещеной на один наверх."
      ]
    },
    {
      "cell_type": "code",
      "execution_count": null,
      "metadata": {
        "colab": {
          "base_uri": "https://localhost:8080/"
        },
        "id": "83V4FIRhdTHZ",
        "outputId": "4bc9f5c0-db89-494e-cae0-e2928966a289"
      },
      "outputs": [
        {
          "output_type": "execute_result",
          "data": {
            "text/plain": [
              "array([[0., 1., 0., 0.],\n",
              "       [0., 0., 1., 0.],\n",
              "       [0., 0., 0., 1.],\n",
              "       [0., 0., 0., 0.]])"
            ]
          },
          "metadata": {},
          "execution_count": 9
        }
      ],
      "source": [
        "np.eye(4, k = 1)"
      ]
    },
    {
      "cell_type": "markdown",
      "metadata": {
        "id": "BkbjSi2gdTHZ"
      },
      "source": [
        "8) Создать матрицу с числами в диапазоне от 1 до 4 по диагонали. В других ячейках матрицы должны быть семерки."
      ]
    },
    {
      "cell_type": "code",
      "execution_count": null,
      "metadata": {
        "colab": {
          "base_uri": "https://localhost:8080/"
        },
        "id": "cF4FVre1dTHZ",
        "outputId": "5fc88c63-5dee-481e-be57-4950ba0f5036"
      },
      "outputs": [
        {
          "output_type": "stream",
          "name": "stdout",
          "text": [
            "[[1 7 7 7]\n",
            " [7 2 7 7]\n",
            " [7 7 3 7]\n",
            " [7 7 7 4]]\n"
          ]
        }
      ],
      "source": [
        "bb = np.full((4,4), 7)\n",
        "np.fill_diagonal(bb, [1, 2, 3, 4])\n",
        "print(bb)"
      ]
    },
    {
      "cell_type": "markdown",
      "metadata": {
        "id": "RHgHYyoodTHZ"
      },
      "source": [
        "9) Создать матрицу размера 5 на 5 заполненную чилами от 0 до 4 в строках."
      ]
    },
    {
      "cell_type": "code",
      "execution_count": null,
      "metadata": {
        "colab": {
          "base_uri": "https://localhost:8080/"
        },
        "id": "rQzEHevTdTHZ",
        "outputId": "b3573035-a747-4b33-de0a-1183f6af9757"
      },
      "outputs": [
        {
          "output_type": "stream",
          "name": "stdout",
          "text": [
            "[[0. 1. 2. 3. 4.]\n",
            " [0. 1. 2. 3. 4.]\n",
            " [0. 1. 2. 3. 4.]\n",
            " [0. 1. 2. 3. 4.]\n",
            " [0. 1. 2. 3. 4.]]\n"
          ]
        }
      ],
      "source": [
        "cc = np.zeros((5,5))\n",
        "for i in range(5):\n",
        "  cc[i] = np.arange(5)\n",
        "print(cc)"
      ]
    },
    {
      "cell_type": "markdown",
      "metadata": {
        "id": "307vsPkzdTHZ"
      },
      "source": [
        "10) Создать матрицу случайных чисел размера 10 на 10 и отнять среднее по строкам из каждого элемента строки"
      ]
    },
    {
      "cell_type": "code",
      "execution_count": null,
      "metadata": {
        "colab": {
          "base_uri": "https://localhost:8080/"
        },
        "id": "Ne46rWEYdTHZ",
        "outputId": "5fb31d25-0291-4249-e437-ec8c1f2b57d2"
      },
      "outputs": [
        {
          "output_type": "stream",
          "name": "stdout",
          "text": [
            "[[-0.03307282  0.18931483 -0.31562086  0.4233941  -0.08995171 -0.32778556\n",
            "   0.16857717  0.21701667 -0.09807093 -0.13380088]\n",
            " [ 0.24582301 -0.20110732  0.26502368  0.3890995   0.28900293 -0.15720436\n",
            "  -0.14399745 -0.31403241  0.08038647 -0.45299405]\n",
            " [ 0.26576302 -0.29555224 -0.06858999 -0.07787733  0.15083689  0.1741797\n",
            "   0.22278892 -0.07223611 -0.19523849 -0.10407436]\n",
            " [-0.57319252 -0.08518633 -0.10089319 -0.38401722  0.4221533   0.31860057\n",
            "  -0.12748743  0.39339608 -0.27607266  0.41269941]\n",
            " [-0.27449134 -0.33137682  0.27023737  0.37142232 -0.4591889  -0.20572541\n",
            "   0.01828842  0.36167109 -0.20434473  0.45350801]\n",
            " [ 0.10113013  0.14136371 -0.10076076 -0.34737551  0.34471727  0.20121993\n",
            "  -0.57764398 -0.17928383  0.20776029  0.20887274]\n",
            " [ 0.36246494 -0.1591174  -0.36029755  0.46365883  0.13274653  0.24220756\n",
            "  -0.04325517 -0.37652828  0.06236152 -0.32424098]\n",
            " [-0.21480012  0.40690734 -0.03520882  0.57973104 -0.26419676 -0.28059114\n",
            "  -0.32826394 -0.23748437 -0.00303264  0.3769394 ]\n",
            " [ 0.22236506 -0.04517924  0.07785215 -0.23001943 -0.49733576 -0.15956446\n",
            "   0.39512135 -0.08772009  0.22760369  0.09687672]\n",
            " [-0.14081415  0.35493521  0.07901175 -0.25199255 -0.46491501 -0.42870265\n",
            "  -0.12202174  0.34156546  0.34544679  0.28748689]]\n"
          ]
        }
      ],
      "source": [
        "dd = np.random.rand(10, 10)\n",
        "mean1 = np.mean(dd, axis = 1)\n",
        "dd -= mean1.reshape(-1, 1)\n",
        "print(dd)"
      ]
    },
    {
      "cell_type": "markdown",
      "metadata": {
        "id": "HlBzVH8YdTHZ"
      },
      "source": [
        "11) Создать матрицу случайных чисел размера 10 на 10 и отнять медиану по столбцам из каждого элемента столбца  "
      ]
    },
    {
      "cell_type": "code",
      "execution_count": null,
      "metadata": {
        "colab": {
          "base_uri": "https://localhost:8080/"
        },
        "id": "2r2IItJ3dTHZ",
        "outputId": "e1107008-1236-4df9-c85f-3979b1886cdd"
      },
      "outputs": [
        {
          "output_type": "stream",
          "name": "stdout",
          "text": [
            "[[ 0.45895606 -0.38026699  0.31265    -0.13748918 -0.51177328 -0.16100767\n",
            "   0.19420113 -0.13983134  0.25988964  0.06594908]\n",
            " [ 0.40699322 -0.30584433 -0.1808709  -0.63411222 -0.24205173  0.01144802\n",
            "   0.07226369  0.52630696  0.23739645  0.37641817]\n",
            " [-0.09558115 -0.35925165  0.2160147   0.06040166  0.22955666 -0.36885983\n",
            "   0.29224652  0.24949536 -0.10866641  0.31214479]\n",
            " [-0.02013964  0.00093559 -0.04631671 -0.03983604  0.28777731 -0.17381036\n",
            "  -0.19623345 -0.04744229 -0.23408654 -0.28092599]\n",
            " [-0.36366194  0.06682263 -0.4274235   0.31624638 -0.0048585   0.17996572\n",
            "   0.37642609 -0.31905975 -0.383848   -0.06594908]\n",
            " [-0.37074915  0.0070306  -0.55310481  0.03983604  0.1779163  -0.01144802\n",
            "  -0.35388686  0.16933695  0.22546324  0.31289134]\n",
            " [ 0.00749216 -0.00093559  0.04631671  0.11770787 -0.00790023  0.15176065\n",
            "  -0.48940782 -0.09494848 -0.3546854   0.35100226]\n",
            " [ 0.16603491 -0.59928269 -0.36700745 -0.63385456  0.0048585   0.20555102\n",
            "  -0.07480189  0.04744229  0.39078622 -0.41761539]\n",
            " [ 0.37821223  0.25935997  0.09373606  0.05596475 -0.65019858 -0.6610182\n",
            "  -0.07226369  0.33608412  0.02126939 -0.41293642]\n",
            " [-0.00749216  0.08357685  0.28909448 -0.06535598  0.24064803  0.08826227\n",
            "   0.15181236 -0.37558649 -0.02126939 -0.3206967 ]]\n"
          ]
        }
      ],
      "source": [
        "ee = np.random.rand(10, 10)\n",
        "median1 = np.median(ee, axis = 0)\n",
        "ee -= median1\n",
        "print(ee)"
      ]
    },
    {
      "cell_type": "markdown",
      "metadata": {
        "id": "u_ufRTKJdTHZ"
      },
      "source": [
        "12) Создать матрицу случайных чисел 5x5. Добавить к ней столбецы максимумов и минимумов по строкам. Получится матрица 5x7.  "
      ]
    },
    {
      "cell_type": "code",
      "execution_count": null,
      "metadata": {
        "colab": {
          "base_uri": "https://localhost:8080/"
        },
        "id": "RSeVXngDdTHa",
        "outputId": "4a39f23d-0e03-4044-d61e-b13cc1c6a01e"
      },
      "outputs": [
        {
          "output_type": "stream",
          "name": "stdout",
          "text": [
            "[[3.19482317e-02 7.70996978e-01 6.75091051e-01 2.39458773e-01\n",
            "  8.63541855e-01 3.19482317e-02 8.63541855e-01]\n",
            " [9.62317530e-01 5.79467283e-01 6.95238388e-04 5.84767444e-01\n",
            "  2.33640478e-01 6.95238388e-04 9.62317530e-01]\n",
            " [8.39087480e-01 4.08273257e-01 8.26413847e-01 7.08966895e-01\n",
            "  4.26635412e-01 4.08273257e-01 8.39087480e-01]\n",
            " [7.63680004e-01 1.44452510e-01 8.07991822e-02 2.30077666e-01\n",
            "  5.46468483e-01 8.07991822e-02 7.63680004e-01]\n",
            " [4.21532087e-01 7.02784946e-02 5.12084310e-01 6.81183208e-01\n",
            "  9.05610003e-01 7.02784946e-02 9.05610003e-01]]\n"
          ]
        }
      ],
      "source": [
        "ff = np.random.rand(5, 5)\n",
        "f_min = np.min(ff, axis = 1)\n",
        "f_max = np.max(ff, axis = 1)\n",
        "ff = np.column_stack((ff, f_min, f_max))\n",
        "print(ff)"
      ]
    },
    {
      "cell_type": "markdown",
      "metadata": {
        "id": "FzMdZt2hdTHa"
      },
      "source": [
        "13) Вектор чисел от 1 до 51 преобразовать в вектор нечетных чисел и в вектор четных чисел, поменять их размерности, чтобы получились две матрица. Найти произведение этих матриц. Найти обратную матрицу эётого произведения.  "
      ]
    },
    {
      "cell_type": "code",
      "execution_count": null,
      "metadata": {
        "colab": {
          "base_uri": "https://localhost:8080/"
        },
        "id": "lwQi7W72dTHa",
        "outputId": "c4e2d076-faae-419e-bf5d-5bae88afc803"
      },
      "outputs": [
        {
          "output_type": "stream",
          "name": "stdout",
          "text": [
            "[[ 860  920  980 1040 1100]\n",
            " [1960 2120 2280 2440 2600]\n",
            " [3060 3320 3580 3840 4100]\n",
            " [4160 4520 4880 5240 5600]\n",
            " [5260 5720 6180 6640 7100]]\n"
          ]
        }
      ],
      "source": [
        "g = np.arange(1, 52)\n",
        "g1 = g[g % 2 == 0]\n",
        "g2 = g[g % 2 != 1]\n",
        "\n",
        "gg1 = g1.reshape(5,5)\n",
        "gg2 = g2.reshape(5,5)\n",
        "\n",
        "gg = np.dot(gg1, gg2)\n",
        "\n",
        "print(gg)"
      ]
    },
    {
      "cell_type": "markdown",
      "metadata": {
        "id": "MFUS_aAydTHa"
      },
      "source": [
        "14) Создать 8x8 матрицу и заполнить её в шахматном порядке нулями и единицами."
      ]
    },
    {
      "cell_type": "code",
      "execution_count": null,
      "metadata": {
        "colab": {
          "base_uri": "https://localhost:8080/"
        },
        "id": "Ov12aIOXdTHa",
        "outputId": "28b61cad-53bc-4667-d11a-6f1574603ce5"
      },
      "outputs": [
        {
          "output_type": "stream",
          "name": "stdout",
          "text": [
            "[[1. 0. 1. 0. 1. 0. 1. 0.]\n",
            " [0. 1. 0. 1. 0. 1. 0. 1.]\n",
            " [1. 0. 1. 0. 1. 0. 1. 0.]\n",
            " [0. 1. 0. 1. 0. 1. 0. 1.]\n",
            " [1. 0. 1. 0. 1. 0. 1. 0.]\n",
            " [0. 1. 0. 1. 0. 1. 0. 1.]\n",
            " [1. 0. 1. 0. 1. 0. 1. 0.]\n",
            " [0. 1. 0. 1. 0. 1. 0. 1.]]\n"
          ]
        }
      ],
      "source": [
        "hh = np.zeros((8, 8))\n",
        "hh[::2, ::2] = 1\n",
        "hh[1::2, 1::2] = 1\n",
        "print(hh)"
      ]
    }
  ],
  "metadata": {
    "kernelspec": {
      "display_name": "Python 3",
      "language": "python",
      "name": "python3"
    },
    "language_info": {
      "codemirror_mode": {
        "name": "ipython",
        "version": 3
      },
      "file_extension": ".py",
      "mimetype": "text/x-python",
      "name": "python",
      "nbconvert_exporter": "python",
      "pygments_lexer": "ipython3",
      "version": "3.8.0"
    },
    "colab": {
      "provenance": []
    }
  },
  "nbformat": 4,
  "nbformat_minor": 0
}