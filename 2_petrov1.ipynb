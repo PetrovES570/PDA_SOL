{
  "cells": [
    {
      "cell_type": "markdown",
      "metadata": {
        "id": "9EvpxLFZdTHV"
      },
      "source": [
        "# Самостоятельная работа 2. Numpy\n",
        "\n",
        "1. Скачайте этот ноутбук к себе.\n",
        "2. Заполните пропущенные ячейки, отвечая на заданные вопросы. Там должен быть код! (если не сказано обратное)\n",
        "3. Сохраните результат в своём гитхаб репозитории.\n",
        "\n",
        "#### Полезная литература\n",
        "\n",
        "- http://www.numpy.org/\n",
        "- https://jakevdp.github.io/PythonDataScienceHandbook/02.00-introduction-to-numpy.html\n",
        "- https://docs.scipy.org/doc/numpy/user/quickstart.html"
      ]
    },
    {
      "cell_type": "markdown",
      "metadata": {
        "id": "oEnHBohTdTHX"
      },
      "source": [
        "1) Импортировать numpy и написать версию"
      ]
    },
    {
      "cell_type": "code",
      "execution_count": 15,
      "metadata": {
        "colab": {
          "base_uri": "https://localhost:8080/"
        },
        "id": "z1E7bDsVdTHX",
        "outputId": "43033aef-109a-4a59-fc54-75a3ff38529c"
      },
      "outputs": [
        {
          "output_type": "stream",
          "name": "stdout",
          "text": [
            "1.23.5\n"
          ]
        }
      ],
      "source": [
        "import numpy as np\n",
        "print (np.__version__)"
      ]
    },
    {
      "cell_type": "markdown",
      "metadata": {
        "id": "avYKgRFydTHY"
      },
      "source": [
        "2) Создать нулевой вектор размера 10"
      ]
    },
    {
      "cell_type": "code",
      "execution_count": 3,
      "metadata": {
        "colab": {
          "base_uri": "https://localhost:8080/"
        },
        "id": "4Yi9sL4XdTHY",
        "outputId": "c886731f-c5f3-47c0-e81b-78ae3118caa9"
      },
      "outputs": [
        {
          "output_type": "stream",
          "name": "stdout",
          "text": [
            "[0. 0. 0. 0. 0. 0. 0. 0. 0. 0.]\n"
          ]
        }
      ],
      "source": [
        "a = np.zeros(10)\n",
        "print(a)"
      ]
    },
    {
      "cell_type": "markdown",
      "metadata": {
        "id": "8hFD1kLRdTHY"
      },
      "source": [
        "3) Создать вектор заполненный 7-ами размера 7"
      ]
    },
    {
      "cell_type": "code",
      "execution_count": 13,
      "metadata": {
        "colab": {
          "base_uri": "https://localhost:8080/"
        },
        "id": "3HJkY8N_dTHY",
        "outputId": "155db24b-fcd3-4ac3-fb92-3f350cb529eb"
      },
      "outputs": [
        {
          "output_type": "stream",
          "name": "stdout",
          "text": [
            "[7. 7. 7. 7. 7. 7. 7.]\n"
          ]
        }
      ],
      "source": [
        "b = 7*np.ones(7)\n",
        "print(b)"
      ]
    },
    {
      "cell_type": "markdown",
      "metadata": {
        "id": "p9RQUW4hdTHY"
      },
      "source": [
        "4) Создать вектор заполненный четными числами от 10 до 100"
      ]
    },
    {
      "cell_type": "code",
      "execution_count": 23,
      "metadata": {
        "colab": {
          "base_uri": "https://localhost:8080/"
        },
        "id": "MgwPMKFadTHY",
        "outputId": "910489a0-44c0-4c43-c321-6a09f202d3d5"
      },
      "outputs": [
        {
          "output_type": "stream",
          "name": "stdout",
          "text": [
            "[ 10  12  14  16  18  20  22  24  26  28  30  32  34  36  38  40  42  44\n",
            "  46  48  50  52  54  56  58  60  62  64  66  68  70  72  74  76  78  80\n",
            "  82  84  86  88  90  92  94  96  98 100]\n"
          ]
        }
      ],
      "source": [
        "c = np.arange(10, 101, 2)\n",
        "print(c)"
      ]
    },
    {
      "cell_type": "markdown",
      "metadata": {
        "id": "DOOX7UoZdTHY"
      },
      "source": [
        "5) Создать массив случайных чисел и развернуть его задом наперёд"
      ]
    },
    {
      "cell_type": "code",
      "execution_count": 39,
      "metadata": {
        "colab": {
          "base_uri": "https://localhost:8080/"
        },
        "id": "PAQJHQGRdTHY",
        "outputId": "082ccddd-8170-476e-fac1-d17819e37d1f"
      },
      "outputs": [
        {
          "output_type": "stream",
          "name": "stdout",
          "text": [
            "Массив случайных чисел [0.47025466 0.52698624 0.57859105 0.12982305 0.17459117]\n",
            "Развернутый вид [0.17459117 0.12982305 0.57859105 0.52698624 0.47025466]\n"
          ]
        }
      ],
      "source": [
        "t = np.random.rand(5)\n",
        "t1 = np.flip(t)\n",
        "print('Массив случайных чисел',t)\n",
        "print('Развернутый вид',t1)"
      ]
    },
    {
      "cell_type": "markdown",
      "metadata": {
        "id": "QpzLObM6dTHY"
      },
      "source": [
        "6) Создать двумерную матрицу размера 3 на 3, заполненную числами от 0 до 9"
      ]
    },
    {
      "cell_type": "code",
      "execution_count": 50,
      "metadata": {
        "colab": {
          "base_uri": "https://localhost:8080/"
        },
        "id": "FgqJn2j6dTHZ",
        "outputId": "f9c68412-4b5e-407f-f882-4ed0613208b5"
      },
      "outputs": [
        {
          "output_type": "stream",
          "name": "stdout",
          "text": [
            "[[0 1 2]\n",
            " [3 4 5]\n",
            " [6 7 8]]\n"
          ]
        }
      ],
      "source": [
        "a=np.array(range(0,9))\n",
        "b=a.reshape(3,3)\n",
        "print(b)"
      ]
    },
    {
      "cell_type": "markdown",
      "metadata": {
        "id": "9NMM-jqjdTHZ"
      },
      "source": [
        "7) Создать матрицу размера 4 на 4 с единицами на диагонали смещеной на один наверх."
      ]
    },
    {
      "cell_type": "code",
      "execution_count": 52,
      "metadata": {
        "colab": {
          "base_uri": "https://localhost:8080/"
        },
        "id": "83V4FIRhdTHZ",
        "outputId": "db009fab-e2d5-43a3-cb3e-c30439595f64"
      },
      "outputs": [
        {
          "output_type": "execute_result",
          "data": {
            "text/plain": [
              "array([[0., 1., 0., 0.],\n",
              "       [0., 0., 1., 0.],\n",
              "       [0., 0., 0., 1.],\n",
              "       [0., 0., 0., 0.]])"
            ]
          },
          "metadata": {},
          "execution_count": 52
        }
      ],
      "source": [
        "np.eye(4, k = 1)"
      ]
    },
    {
      "cell_type": "markdown",
      "metadata": {
        "id": "BkbjSi2gdTHZ"
      },
      "source": [
        "8) Создать матрицу с числами в диапазоне от 1 до 4 по диагонали. В других ячейках матрицы должны быть семерки."
      ]
    },
    {
      "cell_type": "code",
      "execution_count": 54,
      "metadata": {
        "colab": {
          "base_uri": "https://localhost:8080/"
        },
        "id": "cF4FVre1dTHZ",
        "outputId": "b1effef0-db22-44b4-ca42-a4e53e875b8c"
      },
      "outputs": [
        {
          "output_type": "stream",
          "name": "stdout",
          "text": [
            "[[1 7 7 7]\n",
            " [7 2 7 7]\n",
            " [7 7 3 7]\n",
            " [7 7 7 4]]\n"
          ]
        }
      ],
      "source": [
        "m = np.full((4,4), 7)\n",
        "np.fill_diagonal(m, [1, 2, 3, 4])\n",
        "print(m)"
      ]
    },
    {
      "cell_type": "markdown",
      "metadata": {
        "id": "RHgHYyoodTHZ"
      },
      "source": [
        "9) Создать матрицу размера 5 на 5 заполненную чилами от 0 до 4 в строках."
      ]
    },
    {
      "cell_type": "code",
      "execution_count": 55,
      "metadata": {
        "colab": {
          "base_uri": "https://localhost:8080/"
        },
        "id": "rQzEHevTdTHZ",
        "outputId": "9f1bbae3-8c5b-41d5-9fb3-a3c1869a0ca8"
      },
      "outputs": [
        {
          "output_type": "stream",
          "name": "stdout",
          "text": [
            "[[0. 1. 2. 3. 4.]\n",
            " [0. 1. 2. 3. 4.]\n",
            " [0. 1. 2. 3. 4.]\n",
            " [0. 1. 2. 3. 4.]\n",
            " [0. 1. 2. 3. 4.]]\n"
          ]
        }
      ],
      "source": [
        "n = np.zeros((5,5))\n",
        "for i in range(5):\n",
        "  n[i] = np.arange(5)\n",
        "print(n)"
      ]
    },
    {
      "cell_type": "markdown",
      "metadata": {
        "id": "307vsPkzdTHZ"
      },
      "source": [
        "10) Создать матрицу случайных чисел размера 10 на 10 и отнять среднее по строкам из каждого элемента строки"
      ]
    },
    {
      "cell_type": "code",
      "execution_count": 58,
      "metadata": {
        "colab": {
          "base_uri": "https://localhost:8080/"
        },
        "id": "Ne46rWEYdTHZ",
        "outputId": "84f38b61-bb10-406a-b663-e2417a3222a7"
      },
      "outputs": [
        {
          "output_type": "stream",
          "name": "stdout",
          "text": [
            "[[-0.36350826  0.35227653  0.04534857 -0.16245083 -0.45942697 -0.14008582\n",
            "   0.48524499 -0.19289449  0.02748255  0.40801373]\n",
            " [ 0.20252837  0.15571767  0.22706459 -0.31688003  0.12258293  0.20856784\n",
            "  -0.39427128  0.33557106 -0.32758504 -0.21329611]\n",
            " [-0.11072692  0.28735494  0.30783908  0.4417006  -0.28634872 -0.47591878\n",
            "   0.22323374 -0.40814479  0.38879847 -0.36778763]\n",
            " [ 0.21560518  0.27941184  0.34027772 -0.46715424 -0.47591723  0.30693858\n",
            "  -0.20017101  0.2513983   0.11657478 -0.36696393]\n",
            " [-0.09990828  0.06386649 -0.25970139  0.11676711 -0.02845303  0.10961358\n",
            "   0.22199618 -0.01722335  0.2002489  -0.30720622]\n",
            " [-0.33961268  0.26831674  0.05274389  0.10294394  0.2211873   0.06225138\n",
            "  -0.16297343  0.11117893 -0.48830675  0.17227069]\n",
            " [-0.41114107  0.11421499 -0.4285343  -0.36545894  0.12360082 -0.26281351\n",
            "   0.22074933  0.29654143  0.31571411  0.39712711]\n",
            " [ 0.3052074  -0.25656041  0.42155397  0.30828372 -0.33103934 -0.37193413\n",
            "  -0.34249756 -0.17721374  0.16509215  0.27910794]\n",
            " [-0.1040036  -0.16411865  0.07138647  0.11557354 -0.25701351  0.46406886\n",
            "   0.23498921 -0.13362231 -0.04149451 -0.18576549]\n",
            " [ 0.19496261  0.20363712  0.35667639  0.06325006 -0.01651823 -0.47047496\n",
            "  -0.15029539 -0.46258737  0.24003356  0.04131619]]\n"
          ]
        }
      ],
      "source": [
        "p = np.random.rand(10, 10)\n",
        "mean1 = np.mean(p, axis = 1)\n",
        "p -= mean1.reshape(-1, 1)\n",
        "print(p)"
      ]
    },
    {
      "cell_type": "markdown",
      "metadata": {
        "id": "HlBzVH8YdTHZ"
      },
      "source": [
        "11) Создать матрицу случайных чисел размера 10 на 10 и отнять медиану по столбцам из каждого элемента столбца  "
      ]
    },
    {
      "cell_type": "code",
      "execution_count": null,
      "metadata": {
        "id": "2r2IItJ3dTHZ"
      },
      "outputs": [],
      "source": [
        "i = np.random.rand(10, 10)\n",
        "median1 = np.median(i, axis = 0)\n",
        "i -= median1\n",
        "print(i)"
      ]
    },
    {
      "cell_type": "markdown",
      "metadata": {
        "id": "u_ufRTKJdTHZ"
      },
      "source": [
        "12) Создать матрицу случайных чисел 5x5. Добавить к ней столбецы максимумов и минимумов по строкам. Получится матрица 5x7.  "
      ]
    },
    {
      "cell_type": "code",
      "execution_count": null,
      "metadata": {
        "id": "RSeVXngDdTHa"
      },
      "outputs": [],
      "source": [
        "q = np.random.rand(5, 5)\n",
        "f_min = np.min(q, axis = 1)\n",
        "f_max = np.max(q, axis = 1)\n",
        "q = np.column_stack((q, f_min, f_max))\n",
        "print(q)"
      ]
    },
    {
      "cell_type": "markdown",
      "metadata": {
        "id": "FzMdZt2hdTHa"
      },
      "source": [
        "13) Вектор чисел от 1 до 51 преобразовать в вектор нечетных чисел и в вектор четных чисел, поменять их размерности, чтобы получились две матрица. Найти произведение этих матриц. Найти обратную матрицу эётого произведения.  "
      ]
    },
    {
      "cell_type": "code",
      "execution_count": 60,
      "metadata": {
        "colab": {
          "base_uri": "https://localhost:8080/"
        },
        "id": "lwQi7W72dTHa",
        "outputId": "0c3a7313-bd60-4060-9191-0d915bbde072"
      },
      "outputs": [
        {
          "output_type": "stream",
          "name": "stdout",
          "text": [
            "[[ 860  920  980 1040 1100]\n",
            " [1960 2120 2280 2440 2600]\n",
            " [3060 3320 3580 3840 4100]\n",
            " [4160 4520 4880 5240 5600]\n",
            " [5260 5720 6180 6640 7100]]\n"
          ]
        }
      ],
      "source": [
        "from os import WNOWAIT\n",
        "w = np.arange(1, 52)\n",
        "w1 = w[w % 2 == 0]\n",
        "w2 = w[w % 2 != 1]\n",
        "\n",
        "ww1 = w1.reshape(5,5)\n",
        "ww2 = w2.reshape(5,5)\n",
        "\n",
        "ww = np.dot(ww1, ww2)\n",
        "\n",
        "print(ww)"
      ]
    },
    {
      "cell_type": "markdown",
      "metadata": {
        "id": "MFUS_aAydTHa"
      },
      "source": [
        "14) Создать 8x8 матрицу и заполнить её в шахматном порядке нулями и единицами."
      ]
    },
    {
      "cell_type": "code",
      "execution_count": 62,
      "metadata": {
        "colab": {
          "base_uri": "https://localhost:8080/"
        },
        "id": "Ov12aIOXdTHa",
        "outputId": "8ffa7d4e-88fb-4ec6-9621-aa3cae9b38f9"
      },
      "outputs": [
        {
          "output_type": "stream",
          "name": "stdout",
          "text": [
            "[[1. 0. 1. 0. 1. 0. 1. 0.]\n",
            " [0. 1. 0. 1. 0. 1. 0. 1.]\n",
            " [1. 0. 1. 0. 1. 0. 1. 0.]\n",
            " [0. 1. 0. 1. 0. 1. 0. 1.]\n",
            " [1. 0. 1. 0. 1. 0. 1. 0.]\n",
            " [0. 1. 0. 1. 0. 1. 0. 1.]\n",
            " [1. 0. 1. 0. 1. 0. 1. 0.]\n",
            " [0. 1. 0. 1. 0. 1. 0. 1.]]\n"
          ]
        }
      ],
      "source": [
        "v = np.zeros((8, 8))\n",
        "v[::2, ::2] = 1\n",
        "v[1::2, 1::2] = 1\n",
        "print(v)"
      ]
    }
  ],
  "metadata": {
    "kernelspec": {
      "display_name": "Python 3",
      "language": "python",
      "name": "python3"
    },
    "language_info": {
      "codemirror_mode": {
        "name": "ipython",
        "version": 3
      },
      "file_extension": ".py",
      "mimetype": "text/x-python",
      "name": "python",
      "nbconvert_exporter": "python",
      "pygments_lexer": "ipython3",
      "version": "3.8.0"
    },
    "colab": {
      "provenance": []
    }
  },
  "nbformat": 4,
  "nbformat_minor": 0
}