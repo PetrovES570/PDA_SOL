{
  "nbformat": 4,
  "nbformat_minor": 0,
  "metadata": {
    "colab": {
      "provenance": [],
      "authorship_tag": "ABX9TyMmumhD8n1jDiPUXK87spVW",
      "include_colab_link": true
    },
    "kernelspec": {
      "name": "python3",
      "display_name": "Python 3"
    },
    "language_info": {
      "name": "python"
    }
  },
  "cells": [
    {
      "cell_type": "markdown",
      "metadata": {
        "id": "view-in-github",
        "colab_type": "text"
      },
      "source": [
        "<a href=\"https://colab.research.google.com/github/PetrovES570/PDA_SOL/blob/main/%D0%94%D0%BE%D0%BC%D0%B0%D1%88%D0%BD%D0%B5%D0%B5_%D0%B7%D0%B0%D0%B4%D0%B0%D0%BD%D0%B8%D0%B5_1.ipynb\" target=\"_parent\"><img src=\"https://colab.research.google.com/assets/colab-badge.svg\" alt=\"Open In Colab\"/></a>"
      ]
    },
    {
      "cell_type": "code",
      "execution_count": 4,
      "metadata": {
        "colab": {
          "base_uri": "https://localhost:8080/"
        },
        "id": "wqQKNAlnWrfG",
        "outputId": "ffb0bb12-1f39-475b-d929-11e968bbe7e1"
      },
      "outputs": [
        {
          "output_type": "stream",
          "name": "stdout",
          "text": [
            "P\n",
            "e\n",
            "t\n",
            "r\n",
            "o\n",
            "v\n",
            " \n",
            "E\n",
            "v\n",
            "g\n",
            "e\n",
            "n\n",
            "i\n",
            "i\n",
            " \n",
            "S\n",
            "e\n",
            "m\n",
            "e\n",
            "n\n",
            "o\n",
            "v\n",
            "i\n",
            "c\n",
            "h\n"
          ]
        }
      ],
      "source": [
        "fio = \"Petrov Evgenii Semenovich\"\n",
        "for i in fio:\n",
        "    print(i, end='\\n')\n"
      ]
    },
    {
      "cell_type": "code",
      "source": [],
      "metadata": {
        "id": "JQfueZcsYjPT"
      },
      "execution_count": null,
      "outputs": []
    },
    {
      "cell_type": "code",
      "source": [
        "yen1=float(input('Введите курс йены: '))\n",
        "rub1=float(input('Введите количество рублей: '))\n",
        "rub_to_yen = rub1*yen1\n",
        "print(\"Количество йен:\", round(rub_to_yen,2))"
      ],
      "metadata": {
        "colab": {
          "base_uri": "https://localhost:8080/"
        },
        "id": "H7YLHdvjX5IU",
        "outputId": "7edc16c2-a9b2-43da-ee29-0455d8ba041f"
      },
      "execution_count": null,
      "outputs": [
        {
          "output_type": "stream",
          "name": "stdout",
          "text": [
            "Введите курс йены: 0.65\n",
            "Введите количество рублей: 123312.123123\n",
            "Количество йен: 80152.88\n"
          ]
        }
      ]
    },
    {
      "cell_type": "code",
      "source": [
        "\n"
      ],
      "metadata": {
        "id": "9YQBsF9qYsoq"
      },
      "execution_count": null,
      "outputs": []
    }
  ]
}